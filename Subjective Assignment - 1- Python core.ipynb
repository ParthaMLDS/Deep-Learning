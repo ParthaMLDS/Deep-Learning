{
 "cells": [
  {
   "cell_type": "markdown",
   "metadata": {},
   "source": [
    "Q1. Write a Python program to get the string from the given string where\n",
    "all the occurrence of its first char has been changed to '$,' except first\n",
    "char itself?\n",
    "\n",
    "    Sample String: 'prospect'\n",
    "    Expected Result : 'pros$ect'\n"
   ]
  },
  {
   "cell_type": "code",
   "execution_count": 99,
   "metadata": {},
   "outputs": [],
   "source": [
    "def replace_char():\n",
    "    Sample_String=input('Enter a string of your choice where the first character repeats twice in the string ')\n",
    "    Sample_String=Sample_String.lower()\n",
    "    #Sample_String= 'prospect'\n",
    "    first_char=Sample_String[0]\n",
    "    str_out=[]\n",
    "    for i in Sample_String[1:len(Sample_String)]:\n",
    "        if i==first_char:\n",
    "            i='$'\n",
    "        str_out.append(i)\n",
    "    str_out=''.join(str_out)\n",
    "    str_result=first_char+str_out\n",
    "    return(str_result)"
   ]
  },
  {
   "cell_type": "code",
   "execution_count": 101,
   "metadata": {},
   "outputs": [
    {
     "name": "stdout",
     "output_type": "stream",
     "text": [
      "Enter a string of your choice where the first character repeats twice in the string PROSPECt\n"
     ]
    },
    {
     "data": {
      "text/plain": [
       "'pros$ect'"
      ]
     },
     "execution_count": 101,
     "metadata": {},
     "output_type": "execute_result"
    }
   ],
   "source": [
    "replace_char()"
   ]
  },
  {
   "cell_type": "markdown",
   "metadata": {},
   "source": [
    "Q2. Write a Python program to get the single string from the two given\n",
    "strings, and separated by the space and swap the first two characters of\n",
    "each string?\n",
    "\n",
    "    Sample String : 'abc', 'xyz'.\n",
    "    Expected Result: 'xyc abz'"
   ]
  },
  {
   "cell_type": "code",
   "execution_count": 22,
   "metadata": {},
   "outputs": [],
   "source": [
    "def swap_char():\n",
    "    str1=input('Enter the first string')\n",
    "    str2=input('Enter the second string')\n",
    "    SampleString_1_res=list(str1)\n",
    "    SampleString_2_res=list(str2)\n",
    "    first_two_1=SampleString_1_res[0:2]\n",
    "    first_two_2=SampleString_2_res[0:2]\n",
    "    last_1=SampleString_1_res[2:]\n",
    "    last_2=SampleString_2_res[2:]\n",
    "    first_two_1=SampleString_1_res[0:2]\n",
    "    first_two_2=SampleString_2_res[0:2]\n",
    "    last_1=SampleString_1_res[2:]\n",
    "    last_2=SampleString_2_res[2:]\n",
    "    swap_1=first_two_2+last_1\n",
    "    swap_2=first_two_1+last_2\n",
    "    res_1=''.join(swap_1)\n",
    "    res_2=''.join(swap_2)\n",
    "    final_output=res_1+' '+res_2\n",
    "    return(final_output)"
   ]
  },
  {
   "cell_type": "code",
   "execution_count": 23,
   "metadata": {},
   "outputs": [
    {
     "name": "stdout",
     "output_type": "stream",
     "text": [
      "Enter the first stringabc\n",
      "Enter the second stringxyz\n"
     ]
    },
    {
     "data": {
      "text/plain": [
       "'xyc abz'"
      ]
     },
     "execution_count": 23,
     "metadata": {},
     "output_type": "execute_result"
    }
   ],
   "source": [
    "swap_char()"
   ]
  },
  {
   "cell_type": "markdown",
   "metadata": {},
   "source": [
    "Q3. Write the Python program to add 'ing' at the end of the given string\n",
    "(length of the string should be at least 3). If given string already ends\n",
    "with 'ing,' then add 'ly' instead. If string length of the given string is less\n",
    "than 3, leave it unchanged?\n",
    "\n",
    "\n",
    "    Sample string: ' abc '\n",
    "    Expected result: ' abcing '\n",
    "    Sample string: ' string '\n",
    "    Expected result: ' stringly '\n"
   ]
  },
  {
   "cell_type": "code",
   "execution_count": 281,
   "metadata": {},
   "outputs": [],
   "source": [
    "def add_ing_ly_haha():\n",
    "    str_input=input('''Enter string of your choice :)''')\n",
    "    if len(str_input)<3:\n",
    "        str_input=str_input\n",
    "    elif str_input[len(str_input)-3:]=='ing':\n",
    "        str_input=str_input+'ly'\n",
    "    else:\n",
    "        str_input=str_input+'ing'\n",
    "    return(str_input)\n",
    "                 "
   ]
  },
  {
   "cell_type": "code",
   "execution_count": 282,
   "metadata": {},
   "outputs": [
    {
     "name": "stdout",
     "output_type": "stream",
     "text": [
      "Enter string of your choice :)abc\n"
     ]
    },
    {
     "data": {
      "text/plain": [
       "'abcing'"
      ]
     },
     "execution_count": 282,
     "metadata": {},
     "output_type": "execute_result"
    }
   ],
   "source": [
    "add_ing_ly_haha()"
   ]
  },
  {
   "cell_type": "markdown",
   "metadata": {},
   "source": [
    "Q4. Write the Python program to find the first appearance of the\n",
    "substring 'not' and 'poor' from the given string, if 'not' follows the 'poor',\n",
    "replace the whole 'not'...' poor' substring with 'good'.Return the resulting\n",
    "string.\n",
    "\n",
    "    Sample string: 'The lyrics are not that poor!'\n",
    "    'The lyrics are poor!'\n",
    "    Expected Result: 'The lyrics are good!'\n",
    "    'The lyrics are poor!'"
   ]
  },
  {
   "cell_type": "code",
   "execution_count": 160,
   "metadata": {},
   "outputs": [],
   "source": [
    "def replace_string():\n",
    "    Sample_string=str(input())\n",
    "    Sample_string=Sample_string.lower()\n",
    "    not_place=Sample_string.find('not')\n",
    "    poor_place=Sample_string.find('poor')\n",
    "    if not_place>poor_place:\n",
    "        print('not does not follow poor, instead poor follows not')\n",
    "        final_str=Sample_string\n",
    "    else:\n",
    "        _not=Sample_string.index('not')\n",
    "        _poor=Sample_string.index('poor')\n",
    "        final_str=Sample_string[:_not]+'good'+Sample_string[_poor+4:]\n",
    "    return(final_str)"
   ]
  },
  {
   "cell_type": "code",
   "execution_count": 161,
   "metadata": {},
   "outputs": [
    {
     "name": "stdout",
     "output_type": "stream",
     "text": [
      "My name is khan, I am not a terrorist\n",
      "not does not follow poor, instead poor follows not\n"
     ]
    },
    {
     "data": {
      "text/plain": [
       "'my name is khan, i am not a terrorist'"
      ]
     },
     "execution_count": 161,
     "metadata": {},
     "output_type": "execute_result"
    }
   ],
   "source": [
    "replace_string()"
   ]
  },
  {
   "cell_type": "code",
   "execution_count": 162,
   "metadata": {},
   "outputs": [
    {
     "name": "stdout",
     "output_type": "stream",
     "text": [
      "The lyrics are not that poor! The lyrics are poor!\n"
     ]
    },
    {
     "data": {
      "text/plain": [
       "'the lyrics are good! the lyrics are poor!'"
      ]
     },
     "execution_count": 162,
     "metadata": {},
     "output_type": "execute_result"
    }
   ],
   "source": [
    "replace_string()"
   ]
  },
  {
   "cell_type": "markdown",
   "metadata": {},
   "source": [
    "Q5. Write the Python program to remove the characters which have odd\n",
    "index values of a given string."
   ]
  },
  {
   "cell_type": "code",
   "execution_count": 144,
   "metadata": {},
   "outputs": [],
   "source": [
    "def remove_odd_index():\n",
    "    str_input=input('Enter a string')\n",
    "    #str_input=str_input.lower()\n",
    "    len_str=len(str_input)\n",
    "    index=list(range(0,len_str,2))\n",
    "    res_str=[]\n",
    "    for i in index:\n",
    "        item=str_input[i]\n",
    "        res_str.append(item)\n",
    "    final_str=''.join(res_str)\n",
    "    return(final_str)"
   ]
  },
  {
   "cell_type": "code",
   "execution_count": 145,
   "metadata": {},
   "outputs": [
    {
     "name": "stdout",
     "output_type": "stream",
     "text": [
      "Enter a stringIneuron\n"
     ]
    },
    {
     "data": {
      "text/plain": [
       "'Iern'"
      ]
     },
     "execution_count": 145,
     "metadata": {},
     "output_type": "execute_result"
    }
   ],
   "source": [
    "remove_odd_index()"
   ]
  },
  {
   "cell_type": "markdown",
   "metadata": {},
   "source": [
    "Q6. Write the python program to print the following floating numbers up\n",
    "to 2 decimal places?"
   ]
  },
  {
   "cell_type": "code",
   "execution_count": 162,
   "metadata": {},
   "outputs": [],
   "source": [
    "def decimal_coorection():\n",
    "    decimal=input()\n",
    "    decimal=float(decimal)\n",
    "    res=round(decimal,2)\n",
    "    return(res)"
   ]
  },
  {
   "cell_type": "code",
   "execution_count": 163,
   "metadata": {},
   "outputs": [
    {
     "name": "stdout",
     "output_type": "stream",
     "text": [
      "20.1505452165\n"
     ]
    },
    {
     "data": {
      "text/plain": [
       "20.15"
      ]
     },
     "execution_count": 163,
     "metadata": {},
     "output_type": "execute_result"
    }
   ],
   "source": [
    "decimal_coorection()"
   ]
  },
  {
   "cell_type": "markdown",
   "metadata": {},
   "source": [
    "Q7. Write the Python program to format a number with a percentage?"
   ]
  },
  {
   "cell_type": "code",
   "execution_count": 4,
   "metadata": {},
   "outputs": [],
   "source": [
    "def format_with_percent(num):\n",
    "    if isinstance(num,int):\n",
    "        result=(str(num) +''+ '%')\n",
    "    elif isinstance(num,float):\n",
    "        result=(str((num*100)) +''+ '%')\n",
    "    else:\n",
    "        result='The result is neither an int nor float'\n",
    "    return(print(result,end=''))  \n",
    "    "
   ]
  },
  {
   "cell_type": "code",
   "execution_count": 5,
   "metadata": {},
   "outputs": [
    {
     "name": "stdout",
     "output_type": "stream",
     "text": [
      "5.0%"
     ]
    }
   ],
   "source": [
    "format_with_percent(0.05)"
   ]
  },
  {
   "cell_type": "code",
   "execution_count": null,
   "metadata": {},
   "outputs": [],
   "source": [
    "def format_with_percent():\n",
    "    num=float(input('Enter a number'))\n",
    "    return(str(num) +''+ '%')"
   ]
  },
  {
   "cell_type": "markdown",
   "metadata": {},
   "source": [
    "Q8. Write the Python program to count occurrences of a substring in a\n",
    "String?"
   ]
  },
  {
   "cell_type": "code",
   "execution_count": 13,
   "metadata": {},
   "outputs": [],
   "source": [
    "def coocurence_substr():\n",
    "    main_str=input('Enter first word')\n",
    "    sub_str=input('Enter second word')\n",
    "    main_str=main_str.lower()\n",
    "    sub_str=sub_str.lower()\n",
    "    len_substr=len(sub_str)\n",
    "    substr_list=[]\n",
    "    i=0\n",
    "    while i<=len(main_str):\n",
    "        substr=main_str[i:(i+len_substr)]\n",
    "        i+=1\n",
    "        if len(substr)<2:\n",
    "            continue\n",
    "        substr_list.append(substr)\n",
    "\n",
    "    j=0\n",
    "    for k in substr_list:\n",
    "        if k==sub_str:\n",
    "            j+=1\n",
    "    return(print('The occurance of',sub_str,'in',main_str,'is', j,'','times'))\n"
   ]
  },
  {
   "cell_type": "code",
   "execution_count": 17,
   "metadata": {},
   "outputs": [
    {
     "name": "stdout",
     "output_type": "stream",
     "text": [
      "Enter first wordIndia is my country, I am an Indian\n",
      "Enter second wordIndia\n",
      "The occurance of india in india is my country, i am an indian is 2  times\n"
     ]
    }
   ],
   "source": [
    "coocurence_substr()"
   ]
  },
  {
   "cell_type": "markdown",
   "metadata": {},
   "source": [
    "Q9. Write the Python program to count repeated characters in a string.\n",
    "\n",
    "    Sample string: ' thequickbrownjumpsoverthelazydog '\n",
    "    \n",
    "    Expected output:\n",
    "    o 3\n",
    "    e 3\n",
    "    u 2\n",
    "    h 2\n",
    "    r 2\n",
    "    t 2"
   ]
  },
  {
   "cell_type": "code",
   "execution_count": 63,
   "metadata": {},
   "outputs": [
    {
     "name": "stdout",
     "output_type": "stream",
     "text": [
      "i 1\n",
      "u 1\n",
      "o 1\n",
      "e 1\n",
      "n 2\n",
      "r 1\n"
     ]
    }
   ],
   "source": [
    "Sample_string='Ineuron'\n",
    "Sample_string=Sample_string.lower()\n",
    "Sample_string=list(Sample_string)\n",
    "lst_new=list(set(Sample_string))\n",
    "for i in list(range(len(lst_new))):\n",
    "    _elm=lst_new[i]\n",
    "    j=0\n",
    "    for k in Sample_string:\n",
    "        if k==_elm:\n",
    "            j+=1\n",
    "    print(_elm,j)"
   ]
  },
  {
   "cell_type": "markdown",
   "metadata": {},
   "source": [
    "Q10. Write the Python program to print the square and cube symbol in\n",
    "the area of a rectangle and volume of a cylinder?\n",
    "\n",
    "    Sample outputThe area of the rectangle is 1256.66cm2\n",
    "    The volume of the cylinder is 1254.725cm3\n"
   ]
  },
  {
   "cell_type": "code",
   "execution_count": 76,
   "metadata": {},
   "outputs": [],
   "source": [
    "def print_unit():\n",
    "    base=float(input('Enter the calculated amount'))\n",
    "    unit=int(input('Enter the unit'))\n",
    "    goem=input('Is it area or volume')\n",
    "    shape=input('Is it rectangle or cylinder')\n",
    "    if unit==2:\n",
    "        print(\"The\"+\" \" +goem +\" \"+\"ofthe\"+\" \"+shape+\" \"+\"is\"+\" \"+\"{0:.{1}f}cm\\u00b2\".format(base, unit))\n",
    "    else:\n",
    "        print(\"The\"+\" \" +goem +\" \"+\"ofthe\"+\" \"+shape+\" \"+\"is\"+\" \"+\"{0:.{1}f}cm\\u00b3\".format(base, unit))"
   ]
  },
  {
   "cell_type": "code",
   "execution_count": 78,
   "metadata": {},
   "outputs": [
    {
     "name": "stdout",
     "output_type": "stream",
     "text": [
      "Enter the calculated amount12.58\n",
      "Enter the unit2\n",
      "Is it area or volumearea\n",
      "Is it rectangle or cylinderrectangle\n",
      "The area ofthe rectangle is 12.58cm²\n"
     ]
    }
   ],
   "source": [
    "print_unit()"
   ]
  },
  {
   "cell_type": "markdown",
   "metadata": {},
   "source": [
    "Q11. Write the Python program to check if a string contains all letters of\n",
    "the alphabet?"
   ]
  },
  {
   "cell_type": "code",
   "execution_count": 68,
   "metadata": {},
   "outputs": [],
   "source": [
    "import string\n",
    "def check_alphabet():\n",
    "    alphabet_list = set(string.ascii_lowercase)\n",
    "    Sample_string=input(\"Enter a string\")\n",
    "    Sample_string=set(Sample_string.lower())\n",
    "    Sample_string\n",
    "    _nchar_present=len(alphabet_list.intersection(Sample_string))\n",
    "    if _nchar_present<26:\n",
    "        print('The strinf does not contain all leters of the alphabet, it only consist of',str(_nchar_present),'letters')\n",
    "    "
   ]
  },
  {
   "cell_type": "code",
   "execution_count": 70,
   "metadata": {},
   "outputs": [
    {
     "name": "stdout",
     "output_type": "stream",
     "text": [
      "Enter a stringIneuron has started a deep learning course, Its really awsome to see such initiative by Ineoron\n",
      "The strinf does not contain all leters of the alphabet, it only consist of 20 letters\n"
     ]
    }
   ],
   "source": [
    "check_alphabet()"
   ]
  },
  {
   "cell_type": "markdown",
   "metadata": {},
   "source": [
    "Q12. Write the Python program to find the second most repeated word\n",
    "in a given string?"
   ]
  },
  {
   "cell_type": "code",
   "execution_count": 192,
   "metadata": {},
   "outputs": [
    {
     "name": "stdout",
     "output_type": "stream",
     "text": [
      "The second most frequent word is :  given\n"
     ]
    }
   ],
   "source": [
    "import pandas as pd\n",
    "sample_string='Write the Python program to find the minimum window in the given string, which will contains all the characters of another given strings?'\n",
    "sample_string=sample_string.split()\n",
    "lst_new=list(set(sample_string))\n",
    "res_lst=[]\n",
    "for i in list(range(len(lst_new))):\n",
    "    _elm=lst_new[i]\n",
    "    j=0\n",
    "    for k in sample_string:\n",
    "        if k==_elm:\n",
    "            j+=1\n",
    "    res_lst.append([_elm,j])\n",
    "if pd.DataFrame(res_lst).rename(columns={0:'char',1:'frq'}).sort_values(by=['frq'],ascending=False)['frq'].mean()==pd.DataFrame(res_lst).rename(columns={0:'char',1:'frq'}).sort_values(by=['frq'],ascending=False)['frq'][0]:\n",
    "    print('All words have same frequency')\n",
    "else:\n",
    "    #most_frq=pd.DataFrame(res_lst).rename(columns={0:'char',1:'frq'}).sort_values(by=['frq'],ascending=False).reset_index(drop=True)['frq'][0]\n",
    "    print('The second most frequent word is : ',pd.DataFrame(res_lst).rename(columns={0:'char',1:'frq'}).sort_values(by=['frq'],ascending=False).reset_index(drop=True)[(pd.DataFrame(res_lst).rename(columns={0:'char',1:'frq'}).sort_values(by=['frq'],ascending=False).reset_index(drop=True))['frq']<(pd.DataFrame(res_lst).rename(columns={0:'char',1:'frq'}).sort_values(by=['frq'],ascending=False).reset_index(drop=True)['frq'][0])]['char'][1])\n",
    "    #print(pd.DataFrame(res_lst).rename(columns={0:'char',1:'frq'}).sort_values(by=['frq'],ascending=False).reset_index(drop=True)[(pd.DataFrame(res_lst).rename(columns={0:'char',1:'frq'}).sort_values(by=['frq'],ascending=False).reset_index(drop=True))['frq']<(pd.DataFrame(res_lst).rename(columns={0:'char',1:'frq'}).sort_values(by=['frq'],ascending=False).reset_index(drop=True)['frq'][0])]['char'][1])\n",
    "    "
   ]
  },
  {
   "cell_type": "markdown",
   "metadata": {},
   "source": [
    "Q13. Write the Python program to find the minimum window in the given\n",
    "string, which will contains all the characters of another given\n",
    "strings?\n",
    "\n",
    "    Example 1\n",
    "    Input : string1 = \" PRWSOERIUSFK \"\n",
    "    string2 = \" OSU \"\n",
    "    Output: Minimum window is \"OERIUS\""
   ]
  },
  {
   "cell_type": "code",
   "execution_count": 395,
   "metadata": {},
   "outputs": [
    {
     "name": "stdout",
     "output_type": "stream",
     "text": [
      "The smallest window is:  OERIUS\n"
     ]
    }
   ],
   "source": [
    "string1 = \"PRWSOERIUSFK\"\n",
    "string2 = \"OSU\"\n",
    "\n",
    "len_substr=len(string2)\n",
    "collect_substr=[]\n",
    "Main_res=[]\n",
    "for i in range(len(string1)):\n",
    "    for j in range(len_substr,(len(string1)+1)):\n",
    "        str_res=string1[i:j]\n",
    "        collect_substr.append(str_res)\n",
    "string2_lst=list(string2)\n",
    "\n",
    "for k in collect_substr:\n",
    "    s=0\n",
    "    for p in string2_lst:\n",
    "        if p in k:\n",
    "            s+=1\n",
    "    if s==len_substr:\n",
    "        Main_res.append([k,len(k)])\n",
    "        \n",
    "print(\"The smallest window is: \",pd.DataFrame(Main_res).sort_values(by=[1],ascending=True).reset_index(drop=True)[0][0])   "
   ]
  },
  {
   "cell_type": "markdown",
   "metadata": {},
   "source": [
    "Q14. Write the Python program to count number of substrings from a\n",
    "given string of lowercase alphabets with exactly k distinct (given)\n",
    "characters?\n",
    "\n",
    "    Input a string (lowercase alphabets): wolf\n",
    "    Input k: 4\n",
    "    Number of substrings with exactly 4 distinct characters: 1"
   ]
  },
  {
   "cell_type": "code",
   "execution_count": 280,
   "metadata": {},
   "outputs": [
    {
     "data": {
      "text/plain": [
       "{'wolf'}"
      ]
     },
     "execution_count": 280,
     "metadata": {},
     "output_type": "execute_result"
    }
   ],
   "source": [
    "String='wolf'\n",
    "k=4\n",
    "res_set=[]\n",
    "final_res=[]\n",
    "for i in range(len(String)):\n",
    "    substr=String[i:(i+k)]\n",
    "    res_set.append(substr)\n",
    "    for j in list(set(res_set)):\n",
    "        if len(set(j))==k:\n",
    "            final_res.append(j)\n",
    "final_res=set(final_res)\n",
    "final_res"
   ]
  },
  {
   "cell_type": "markdown",
   "metadata": {},
   "source": [
    "Q15. Write the Python program to count number of substrings with same\n",
    "first and last characters of the given string?\n",
    "\n",
    "    Input a string: abcd\n",
    "    4\n"
   ]
  },
  {
   "cell_type": "code",
   "execution_count": 287,
   "metadata": {},
   "outputs": [],
   "source": [
    "def countSubstr(): \n",
    "    inpt=input('Enter a string')\n",
    "    result = 0; \n",
    "    n = len(inpt); \n",
    "  \n",
    "    # Iterating through all substrings in \n",
    "    # way so that we can find first and  \n",
    "    # last character easily \n",
    "    for i in range(n): \n",
    "        for j in range(i, n): \n",
    "            if (inpt[i] == inpt[j]): \n",
    "                result = result + 1\n",
    "    return result "
   ]
  },
  {
   "cell_type": "code",
   "execution_count": 396,
   "metadata": {},
   "outputs": [
    {
     "name": "stdout",
     "output_type": "stream",
     "text": [
      "Enter a stringabcd\n"
     ]
    },
    {
     "data": {
      "text/plain": [
       "4"
      ]
     },
     "execution_count": 396,
     "metadata": {},
     "output_type": "execute_result"
    }
   ],
   "source": [
    "countSubstr()"
   ]
  },
  {
   "cell_type": "markdown",
   "metadata": {},
   "source": [
    "## Great Job!"
   ]
  }
 ],
 "metadata": {
  "kernelspec": {
   "display_name": "Python 3",
   "language": "python",
   "name": "python3"
  },
  "language_info": {
   "codemirror_mode": {
    "name": "ipython",
    "version": 3
   },
   "file_extension": ".py",
   "mimetype": "text/x-python",
   "name": "python",
   "nbconvert_exporter": "python",
   "pygments_lexer": "ipython3",
   "version": "3.7.4"
  }
 },
 "nbformat": 4,
 "nbformat_minor": 2
}
